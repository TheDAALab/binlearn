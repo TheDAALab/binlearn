{
 "cells": [
  {
   "cell_type": "code",
   "execution_count": 1,
   "id": "d4a17230",
   "metadata": {},
   "outputs": [],
   "source": [
    "from typing import Any\n",
    "\n",
    "import numpy as np\n",
    "import pandas as pd\n",
    "\n",
    "from binning import EqualWidthBinning, IntervalBinningBase"
   ]
  },
  {
   "cell_type": "code",
   "execution_count": 2,
   "id": "767300d1",
   "metadata": {},
   "outputs": [
    {
     "ename": "KeyError",
     "evalue": "0",
     "output_type": "error",
     "traceback": [
      "\u001b[31m---------------------------------------------------------------------------\u001b[39m",
      "\u001b[31mKeyError\u001b[39m                                  Traceback (most recent call last)",
      "\u001b[36mCell\u001b[39m\u001b[36m \u001b[39m\u001b[32mIn[2]\u001b[39m\u001b[32m, line 7\u001b[39m\n\u001b[32m      4\u001b[39m X_pd = pd.DataFrame(X_np, columns=[\u001b[33m\"\u001b[39m\u001b[33ma\u001b[39m\u001b[33m\"\u001b[39m, \u001b[33m\"\u001b[39m\u001b[33mb\u001b[39m\u001b[33m\"\u001b[39m])\n\u001b[32m      6\u001b[39m est.fit(X_pd)\n\u001b[32m----> \u001b[39m\u001b[32m7\u001b[39m out_pd = est.transform(X_pd)\n\u001b[32m      8\u001b[39m \u001b[38;5;28;01massert\u001b[39;00m out_pd.shape == X_pd.shape\n\u001b[32m      9\u001b[39m \u001b[38;5;28;01mif\u001b[39;00m preserve_dataframe:\n",
      "\u001b[36mFile \u001b[39m\u001b[32m~/anaconda3/envs/binning/lib/python3.13/site-packages/sklearn/utils/_set_output.py:316\u001b[39m, in \u001b[36m_wrap_method_output.<locals>.wrapped\u001b[39m\u001b[34m(self, X, *args, **kwargs)\u001b[39m\n\u001b[32m    314\u001b[39m \u001b[38;5;129m@wraps\u001b[39m(f)\n\u001b[32m    315\u001b[39m \u001b[38;5;28;01mdef\u001b[39;00m\u001b[38;5;250m \u001b[39m\u001b[34mwrapped\u001b[39m(\u001b[38;5;28mself\u001b[39m, X, *args, **kwargs):\n\u001b[32m--> \u001b[39m\u001b[32m316\u001b[39m     data_to_wrap = f(\u001b[38;5;28mself\u001b[39m, X, *args, **kwargs)\n\u001b[32m    317\u001b[39m     \u001b[38;5;28;01mif\u001b[39;00m \u001b[38;5;28misinstance\u001b[39m(data_to_wrap, \u001b[38;5;28mtuple\u001b[39m):\n\u001b[32m    318\u001b[39m         \u001b[38;5;66;03m# only wrap the first output for cross decomposition\u001b[39;00m\n\u001b[32m    319\u001b[39m         return_tuple = (\n\u001b[32m    320\u001b[39m             _wrap_data_with_container(method, data_to_wrap[\u001b[32m0\u001b[39m], X, \u001b[38;5;28mself\u001b[39m),\n\u001b[32m    321\u001b[39m             *data_to_wrap[\u001b[32m1\u001b[39m:],\n\u001b[32m    322\u001b[39m         )\n",
      "\u001b[36mFile \u001b[39m\u001b[32m~/workspaces/binning/binning/base/_interval_binning_base.py:136\u001b[39m, in \u001b[36mIntervalBinningBase.transform\u001b[39m\u001b[34m(self, X)\u001b[39m\n\u001b[32m    134\u001b[39m \u001b[38;5;28;01massert\u001b[39;00m \u001b[38;5;28mself\u001b[39m.bin_spec_ \u001b[38;5;129;01mis\u001b[39;00m \u001b[38;5;129;01mnot\u001b[39;00m \u001b[38;5;28;01mNone\u001b[39;00m\n\u001b[32m    135\u001b[39m \u001b[38;5;28;01mfor\u001b[39;00m idx \u001b[38;5;129;01min\u001b[39;00m \u001b[38;5;28mrange\u001b[39m(x_array.shape[\u001b[32m1\u001b[39m]):\n\u001b[32m--> \u001b[39m\u001b[32m136\u001b[39m     edges = \u001b[38;5;28mself\u001b[39m.bin_spec_[idx]\n\u001b[32m    137\u001b[39m     col_data = x_array[:, idx]\n\u001b[32m    138\u001b[39m     bin_indices = np.digitize(col_data, edges) - \u001b[32m1\u001b[39m\n",
      "\u001b[31mKeyError\u001b[39m: 0"
     ]
    }
   ],
   "source": [
    "preserve_dataframe=True\n",
    "est = EqualWidthBinning(n_bins=2, bin_range=(0.0, 2.0), preserve_dataframe=preserve_dataframe)\n",
    "X_np = np.array([[0.5, 1.5], [1.0, 2.0]])\n",
    "X_pd = pd.DataFrame(X_np, columns=[\"a\", \"b\"])\n",
    "\n",
    "est.fit(X_pd)\n",
    "out_pd = est.transform(X_pd)\n",
    "assert out_pd.shape == X_pd.shape\n",
    "if preserve_dataframe:\n",
    "    assert hasattr(out_pd, \"columns\")\n",
    "    assert isinstance(out_pd, pd.DataFrame)\n",
    "    assert list(out_pd.columns) == [\"a\", \"b\"]\n",
    "else:\n",
    "    assert isinstance(out_pd, np.ndarray)"
   ]
  },
  {
   "cell_type": "code",
   "execution_count": 4,
   "id": "1212b19f",
   "metadata": {},
   "outputs": [
    {
     "data": {
      "text/plain": [
       "(None,\n",
       " {'a': [np.float64(0.0), np.float64(1.0), np.float64(2.0)],\n",
       "  'b': [np.float64(0.0), np.float64(1.0), np.float64(2.0)]})"
      ]
     },
     "execution_count": 4,
     "metadata": {},
     "output_type": "execute_result"
    }
   ],
   "source": [
    "est.bin_spec, est.bin_spec_"
   ]
  },
  {
   "cell_type": "code",
   "execution_count": null,
   "id": "7c0a3c20",
   "metadata": {},
   "outputs": [],
   "source": []
  },
  {
   "cell_type": "code",
   "execution_count": 4,
   "id": "544446e9",
   "metadata": {},
   "outputs": [],
   "source": [
    "class DummyIntervalBinning(IntervalBinningBase):\n",
    "    \"\"\"Minimal subclass for testing IntervalBinningBase.\n",
    "\n",
    "    Allows custom bin edges for testing below/above range logic.\n",
    "\n",
    "    Attributes:\n",
    "        bin_edges (list or None): Custom bin edges to use for all columns.\n",
    "        _test_bin_edges (list or None): Internal storage for test bin edges.\n",
    "    \"\"\"\n",
    "\n",
    "    def __init__(self, bin_edges=None, **kwargs):\n",
    "        \"\"\"Initialize DummyIntervalBinning.\n",
    "\n",
    "        Args:\n",
    "            bin_edges (list or None): Custom bin edges to use for all columns.\n",
    "            **kwargs: Additional keyword arguments passed to IntervalBinningBase.\n",
    "        \"\"\"\n",
    "        self.bin_edges = bin_edges\n",
    "        self._test_bin_edges = bin_edges\n",
    "        super().__init__(**kwargs)\n",
    "\n",
    "    def _calculate_bins(self, x_col: np.ndarray, col_id: Any) -> list:\n",
    "        \"\"\"Return custom bin edges or default edges for a column.\n",
    "\n",
    "        Args:\n",
    "            x_col (np.ndarray): Data for a single column.\n",
    "            col_id (Any): Column identifier.\n",
    "\n",
    "        Returns:\n",
    "            list: Bin edges for the column.\n",
    "        \"\"\"\n",
    "        if self._test_bin_edges is not None:\n",
    "            return self._test_bin_edges\n",
    "        return [-np.inf, 0.0, 1.0, np.inf]\n"
   ]
  },
  {
   "cell_type": "code",
   "execution_count": 5,
   "id": "f55b7c07",
   "metadata": {},
   "outputs": [],
   "source": [
    "def _fit_dummy(est, X):\n",
    "    \"\"\"Helper to fit bins and reps for DummyIntervalBinning.\n",
    "\n",
    "    Args:\n",
    "        est (DummyIntervalBinning): The estimator to fit.\n",
    "        X (np.ndarray): Input data.\n",
    "    \"\"\"\n",
    "    est._fit_bins(X)\n",
    "    est.is_fitted_ = True"
   ]
  },
  {
   "cell_type": "code",
   "execution_count": 6,
   "id": "57e6e7e2",
   "metadata": {},
   "outputs": [],
   "source": [
    "finite_edges = [0.0, 1.0, 2.0]\n",
    "X = np.array([[0.1, 1.5], [0.6, 1.8]])\n",
    "est = DummyIntervalBinning(\n",
    "    bin_spec={0: finite_edges, 1: finite_edges},\n",
    "    bin_edges=finite_edges,\n",
    "    clip=True,\n",
    ")\n",
    "_fit_dummy(est, X)\n",
    "\n",
    "bin_ranges = est.lookup_bin_ranges()\n",
    "assert isinstance(bin_ranges, dict)\n",
    "assert set(bin_ranges.keys()) == {0, 1}\n",
    "assert all(v == 2 for v in bin_ranges.values())\n",
    "\n",
    "params = est.get_params()\n",
    "assert isinstance(params, dict)\n",
    "assert \"bin_spec\" in params\n",
    "assert \"bin_reps\" in params\n",
    "assert \"clip\" in params\n",
    "for v in params[\"bin_spec\"].values():\n",
    "    assert isinstance(v, list)\n",
    "if params[\"bin_reps\"] is not None:\n",
    "    for v in params[\"bin_reps\"].values():\n",
    "        assert isinstance(v, list)"
   ]
  },
  {
   "cell_type": "code",
   "execution_count": 8,
   "id": "77ec8c5a",
   "metadata": {},
   "outputs": [],
   "source": [
    "est = DummyIntervalBinning(\n",
    "    bin_spec={0: finite_edges, 1: finite_edges},\n",
    "    bin_edges=finite_edges,\n",
    "    clip=True,\n",
    ")"
   ]
  },
  {
   "cell_type": "code",
   "execution_count": 10,
   "id": "83775105",
   "metadata": {},
   "outputs": [
    {
     "data": {
      "text/plain": [
       "{0: [0.5, 1.5], 1: [0.5, 1.5]}"
      ]
     },
     "execution_count": 10,
     "metadata": {},
     "output_type": "execute_result"
    }
   ],
   "source": [
    "est.bin_reps_"
   ]
  },
  {
   "cell_type": "code",
   "execution_count": 7,
   "id": "d6f4a62d",
   "metadata": {},
   "outputs": [
    {
     "data": {
      "text/plain": [
       "{'bin_edges': [0.0, 1.0, 2.0],\n",
       " 'fit_jointly': False,\n",
       " 'preserve_dataframe': False,\n",
       " 'bin_spec': {0: [0.0, 1.0, 2.0], 1: [0.0, 1.0, 2.0]},\n",
       " 'bin_reps': None,\n",
       " 'clip': True}"
      ]
     },
     "execution_count": 7,
     "metadata": {},
     "output_type": "execute_result"
    }
   ],
   "source": [
    "params"
   ]
  },
  {
   "cell_type": "markdown",
   "id": "98e0936a",
   "metadata": {},
   "source": [
    "# Exact values binning"
   ]
  },
  {
   "cell_type": "code",
   "execution_count": null,
   "id": "2b81664f",
   "metadata": {},
   "outputs": [
    {
     "name": "stdout",
     "output_type": "stream",
     "text": [
      "Original numpy array:\n",
      "[[ 10. 100.]\n",
      " [ 20. 200.]\n",
      " [ 20. 200.]\n",
      " [ 30. 300.]\n",
      " [ 40. 400.]\n",
      " [ nan 500.]\n",
      " [ 50.  nan]]\n",
      "\n",
      "Original pandas DataFrame:\n",
      "      A      B\n",
      "0  10.0  100.0\n",
      "1  20.0  200.0\n",
      "2  20.0  200.0\n",
      "3  30.0  300.0\n",
      "4  40.0  400.0\n",
      "5   NaN  500.0\n",
      "6  50.0    NaN\n"
     ]
    }
   ],
   "source": [
    "import numpy as np\n",
    "import pandas as pd\n",
    "\n",
    "from binning import IntervalBinningBase\n",
    "\n",
    "# Construct example data\n",
    "data_np = np.array([\n",
    "    [10, 100],\n",
    "    [20, 200],\n",
    "    [20, 200],\n",
    "    [30, 300],\n",
    "    [40, 400],\n",
    "    [np.nan, 500],   # To illustrate NaN handling\n",
    "    [50, np.nan],    # To illustrate NaN handling\n",
    "])\n",
    "\n",
    "data_df = pd.DataFrame(data_np, columns=[\"A\", \"B\"])\n",
    "\n",
    "print(\"Original numpy array:\")\n",
    "print(data_np)\n",
    "print(\"\\nOriginal pandas DataFrame:\")\n",
    "print(data_df)"
   ]
  },
  {
   "cell_type": "code",
   "execution_count": 2,
   "id": "c8dbb1e2",
   "metadata": {},
   "outputs": [
    {
     "name": "stdout",
     "output_type": "stream",
     "text": [
      "\n",
      "Default binning (numpy array, clip=True):\n",
      "[[ 0  0]\n",
      " [ 1  1]\n",
      " [ 1  1]\n",
      " [ 2  2]\n",
      " [ 3  3]\n",
      " [-2  4]\n",
      " [ 4 -2]]\n",
      "\n",
      "Default binning (DataFrame, clip=True):\n",
      "[[ 0  0]\n",
      " [ 1  1]\n",
      " [ 1  1]\n",
      " [ 2  2]\n",
      " [ 3  3]\n",
      " [-2  4]\n",
      " [ 4 -2]]\n"
     ]
    }
   ],
   "source": [
    "# 1. Default binning (clip=True, preserve_dataframe=False)\n",
    "binner_default = ExactValuesBinning()\n",
    "binner_default.fit(data_np)\n",
    "print(\"\\nDefault binning (numpy array, clip=True):\")\n",
    "print(binner_default.transform(data_np))\n",
    "\n",
    "binner_default_df = ExactValuesBinning()\n",
    "binner_default_df.fit(data_df)\n",
    "print(\"\\nDefault binning (DataFrame, clip=True):\")\n",
    "print(binner_default_df.transform(data_df))"
   ]
  },
  {
   "cell_type": "code",
   "execution_count": 3,
   "id": "3da1a938",
   "metadata": {},
   "outputs": [
    {
     "data": {
      "text/plain": [
       "{0: array([-inf,  15.,  25.,  35.,  45.,  inf]),\n",
       " 1: array([-inf, 150., 250., 350., 450.,  inf])}"
      ]
     },
     "execution_count": 3,
     "metadata": {},
     "output_type": "execute_result"
    }
   ],
   "source": [
    "binner_default.bin_edges_"
   ]
  },
  {
   "cell_type": "code",
   "execution_count": 4,
   "id": "48deb533",
   "metadata": {},
   "outputs": [
    {
     "name": "stdout",
     "output_type": "stream",
     "text": [
      "\n",
      "No clipping (numpy array, clip=False):\n",
      "[[ 0  0]\n",
      " [ 1  1]\n",
      " [ 1  1]\n",
      " [ 2  2]\n",
      " [ 3  3]\n",
      " [-2  4]\n",
      " [ 4 -2]]\n"
     ]
    }
   ],
   "source": [
    "# 2. No clipping (clip=False)\n",
    "binner_noclip = ExactValuesBinning(clip=False)\n",
    "binner_noclip.fit(data_np)\n",
    "print(\"\\nNo clipping (numpy array, clip=False):\")\n",
    "print(binner_noclip.transform(data_np))"
   ]
  },
  {
   "cell_type": "code",
   "execution_count": 11,
   "id": "67d3906c",
   "metadata": {},
   "outputs": [
    {
     "data": {
      "text/plain": [
       "{0: array([-inf,  15.,  25.,  35.,  45.,  inf]),\n",
       " 1: array([-inf, 150., 250., 350., 450.,  inf])}"
      ]
     },
     "execution_count": 11,
     "metadata": {},
     "output_type": "execute_result"
    }
   ],
   "source": [
    "binner_noclip.bin_edges_"
   ]
  },
  {
   "cell_type": "code",
   "execution_count": 5,
   "id": "98636a0a",
   "metadata": {},
   "outputs": [
    {
     "name": "stdout",
     "output_type": "stream",
     "text": [
      "\n",
      "Preserve DataFrame output (preserve_dataframe=True):\n",
      "   A  B\n",
      "0  0  0\n",
      "1  1  1\n",
      "2  1  1\n",
      "3  2  2\n",
      "4  3  3\n",
      "5 -2  4\n",
      "6  4 -2\n"
     ]
    }
   ],
   "source": [
    "# 3. Preserve DataFrame output\n",
    "binner_preserve_df = ExactValuesBinning(preserve_dataframe=True)\n",
    "binner_preserve_df.fit(data_df)\n",
    "print(\"\\nPreserve DataFrame output (preserve_dataframe=True):\")\n",
    "print(binner_preserve_df.transform(data_df))"
   ]
  },
  {
   "cell_type": "code",
   "execution_count": 6,
   "id": "a5006c51",
   "metadata": {},
   "outputs": [
    {
     "name": "stdout",
     "output_type": "stream",
     "text": [
      "\n",
      "Custom bin edges and representatives (numpy array):\n",
      "Transformed:\n",
      " [[ 0  0]\n",
      " [ 0  0]\n",
      " [ 0  0]\n",
      " [ 1  1]\n",
      " [ 1  1]\n",
      " [-2  1]\n",
      " [ 1 -2]]\n",
      "Bin representatives: {0: array([12.5, 37.5]), 1: array([125, 375])}\n"
     ]
    }
   ],
   "source": [
    "# 4. Custom bin edges and representatives\n",
    "custom_edges = {0: [0, 25, 50], 1: [0, 250, 500]}\n",
    "custom_reps = {0: [12.5, 37.5], 1: [125, 375]}\n",
    "binner_custom = ExactValuesBinning(bin_edges=custom_edges, bin_representatives=custom_reps)\n",
    "binner_custom.fit(data_np)\n",
    "print(\"\\nCustom bin edges and representatives (numpy array):\")\n",
    "print(\"Transformed:\\n\", binner_custom.transform(data_np))\n",
    "print(\"Bin representatives:\", binner_custom.bin_representatives_)"
   ]
  },
  {
   "cell_type": "code",
   "execution_count": 7,
   "id": "d509010e",
   "metadata": {},
   "outputs": [
    {
     "name": "stdout",
     "output_type": "stream",
     "text": [
      "\n",
      "Joint fitting (fit_jointly=True):\n",
      "[[ 0  5]\n",
      " [ 1  6]\n",
      " [ 1  6]\n",
      " [ 2  7]\n",
      " [ 3  8]\n",
      " [-2  9]\n",
      " [ 4 -2]]\n"
     ]
    }
   ],
   "source": [
    "# 5. Joint fitting (fit_jointly=True)\n",
    "binner_joint = ExactValuesBinning(fit_jointly=True)\n",
    "binner_joint.fit(data_np)\n",
    "print(\"\\nJoint fitting (fit_jointly=True):\")\n",
    "print(binner_joint.transform(data_np))"
   ]
  },
  {
   "cell_type": "code",
   "execution_count": 8,
   "id": "334a7406",
   "metadata": {},
   "outputs": [
    {
     "name": "stdout",
     "output_type": "stream",
     "text": [
      "\n",
      "NaN handling (should be -2 for NaN locations):\n",
      "[[ 0  0]\n",
      " [ 1  1]\n",
      " [ 1  1]\n",
      " [ 2  2]\n",
      " [ 3  3]\n",
      " [-2  4]\n",
      " [ 4 -2]]\n"
     ]
    }
   ],
   "source": [
    "# 6. Show how NaN values are handled (should be -2 in output)\n",
    "print(\"\\nNaN handling (should be -2 for NaN locations):\")\n",
    "print(binner_default.transform(data_np))"
   ]
  },
  {
   "cell_type": "code",
   "execution_count": 9,
   "id": "de5aa122",
   "metadata": {},
   "outputs": [
    {
     "name": "stdout",
     "output_type": "stream",
     "text": [
      "\n",
      "Test data with outliers (numpy array):\n",
      "[[  5.  50.]\n",
      " [ 60. 600.]\n",
      " [ 10. 100.]\n",
      " [ 50. 500.]\n",
      " [ 25. 250.]\n",
      " [ nan 200.]]\n",
      "\n",
      "Test data with outliers (DataFrame):\n",
      "      A      B\n",
      "0   5.0   50.0\n",
      "1  60.0  600.0\n",
      "2  10.0  100.0\n",
      "3  50.0  500.0\n",
      "4  25.0  250.0\n",
      "5   NaN  200.0\n",
      "\n",
      "Default binning (clip=True) on outlier test data (numpy array):\n",
      "[[ 0  0]\n",
      " [ 4  4]\n",
      " [ 0  0]\n",
      " [ 4  4]\n",
      " [ 2  2]\n",
      " [-2  1]]\n",
      "\n",
      "No clipping (clip=False) on outlier test data (numpy array):\n",
      "[[ 0  0]\n",
      " [ 4  4]\n",
      " [ 0  0]\n",
      " [ 4  4]\n",
      " [ 2  2]\n",
      " [-2  1]]\n"
     ]
    }
   ],
   "source": [
    "# 7. Outliers below and above the training data\n",
    "test_np_outliers = np.array([\n",
    "    [5, 50],      # Both values below training min\n",
    "    [60, 600],    # Both values above training max\n",
    "    [10, 100],    # At training min\n",
    "    [50, 500],    # At training max\n",
    "    [25, 250],    # In the middle\n",
    "    [np.nan, 200] # NaN in first column\n",
    "])\n",
    "\n",
    "test_df_outliers = pd.DataFrame(test_np_outliers, columns=[\"A\", \"B\"])\n",
    "\n",
    "print(\"\\nTest data with outliers (numpy array):\")\n",
    "print(test_np_outliers)\n",
    "print(\"\\nTest data with outliers (DataFrame):\")\n",
    "print(test_df_outliers)\n",
    "\n",
    "# Use the default binner trained earlier\n",
    "print(\"\\nDefault binning (clip=True) on outlier test data (numpy array):\")\n",
    "print(binner_default.transform(test_np_outliers))\n",
    "\n",
    "print(\"\\nNo clipping (clip=False) on outlier test data (numpy array):\")\n",
    "print(binner_noclip.transform(test_np_outliers))"
   ]
  },
  {
   "cell_type": "code",
   "execution_count": 10,
   "id": "5ef2398a",
   "metadata": {},
   "outputs": [
    {
     "data": {
      "text/plain": [
       "{0: array([-inf,  15.,  25.,  35.,  45.,  inf]),\n",
       " 1: array([-inf, 150., 250., 350., 450.,  inf])}"
      ]
     },
     "execution_count": 10,
     "metadata": {},
     "output_type": "execute_result"
    }
   ],
   "source": [
    "binner_noclip.bin_edges_"
   ]
  },
  {
   "cell_type": "code",
   "execution_count": null,
   "id": "5a4df611",
   "metadata": {},
   "outputs": [],
   "source": []
  }
 ],
 "metadata": {
  "kernelspec": {
   "display_name": "binning",
   "language": "python",
   "name": "python3"
  },
  "language_info": {
   "codemirror_mode": {
    "name": "ipython",
    "version": 3
   },
   "file_extension": ".py",
   "mimetype": "text/x-python",
   "name": "python",
   "nbconvert_exporter": "python",
   "pygments_lexer": "ipython3",
   "version": "3.13.0"
  }
 },
 "nbformat": 4,
 "nbformat_minor": 5
}
